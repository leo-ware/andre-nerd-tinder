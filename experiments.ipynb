{
 "cells": [
  {
   "cell_type": "code",
   "execution_count": 40,
   "metadata": {},
   "outputs": [],
   "source": [
    "import sklearn\n",
    "import requests\n",
    "import spacy\n",
    "import numpy as np\n",
    "from collections import defaultdict\n",
    "from sklearn.cluster import KMeans\n",
    "import random\n",
    "import matplotlib.cm as cm \n",
    "\n",
    "from sklearn.manifold import TSNE\n",
    "import matplotlib.pyplot as plt"
   ]
  },
  {
   "cell_type": "code",
   "execution_count": 37,
   "metadata": {},
   "outputs": [
    {
     "data": {
      "text/plain": [
       "['TensorFlow: A system for large-scale machine learning',\n",
       " 'TensorFlow: Large-Scale Machine Learning on Heterogeneous Distributed Systems',\n",
       " 'Fashion-MNIST: a Novel Image Dataset for Benchmarking Machine Learning Algorithms',\n",
       " 'Machine learning - a probabilistic perspective',\n",
       " 'Data Mining Practical Machine Learning Tools and Techniques',\n",
       " 'Scikit-learn: Machine Learning in Python',\n",
       " 'Convolutional LSTM Network: A Machine Learning Approach for Precipitation Nowcasting',\n",
       " 'Practical Bayesian Optimization of Machine Learning Algorithms',\n",
       " 'Gaussian Processes for Machine Learning',\n",
       " 'Neural Machine Translation by Jointly Learning to Align and Translate',\n",
       " 'A Survey on Bias and Fairness in Machine Learning',\n",
       " 'An Introduction to Machine Learning',\n",
       " 'Stop explaining black box machine learning models for high stakes decisions and use interpretable models instead',\n",
       " 'C4.5: Programs for Machine Learning',\n",
       " 'Pattern Recognition and Machine Learning',\n",
       " 'Optimization Methods for Large-Scale Machine Learning',\n",
       " 'Genetic Algorithms in Search Optimization and Machine Learning',\n",
       " \"Machine Learning for Combinatorial Optimization: a Methodological Tour d'Horizon\",\n",
       " 'Practical Black-Box Attacks against Machine Learning',\n",
       " 'Machine learning',\n",
       " 'Open Graph Benchmark: Datasets for Machine Learning on Graphs',\n",
       " 'A Survey on Data Collection for Machine Learning: A Big Data - AI Integration Perspective',\n",
       " 'Learning Phrase Representations using RNN Encoder–Decoder for Statistical Machine Translation',\n",
       " 'Large-Scale Machine Learning with Stochastic Gradient Descent',\n",
       " 'Data mining: practical machine learning tools and techniques, 3rd Edition',\n",
       " 'Thumbs up? Sentiment Classification using Machine Learning Techniques',\n",
       " 'Pattern Recognition and Machine Learning (Information Science and Statistics)',\n",
       " 'Machine learning in automated text categorization',\n",
       " 'Pattern Recognition and Machine Learning',\n",
       " 'Adversarial Machine Learning at Scale',\n",
       " 'UCI Repository of machine learning databases',\n",
       " 'Multimodal Machine Learning: A Survey and Taxonomy',\n",
       " 'Understanding Machine Learning - From Theory to Algorithms',\n",
       " 'Quantum Machine Learning',\n",
       " 'Applications of machine learning to machine fault diagnosis: A review and roadmap',\n",
       " 'Techniques for interpretable machine learning',\n",
       " 'Explainable Machine Learning for Scientific Insights and Discoveries',\n",
       " 'Fairness in Machine Learning',\n",
       " 'Federated Machine Learning: Concept and Applications',\n",
       " 'Membership Inference Attacks Against Machine Learning Models',\n",
       " 'Explainable machine learning in deployment',\n",
       " 'Reconciling modern machine-learning practice and the classical bias–variance trade-off',\n",
       " 'Interpretable Machine Learning',\n",
       " 'Machine learning for molecular simulation',\n",
       " 'Extreme Learning Machine for Regression and Multiclass Classification',\n",
       " 'Hands-On Machine Learning with Scikit-Learn and TensorFlow: Concepts, Tools, and Techniques to Build Intelligent Systems',\n",
       " 'The Impact of Machine Learning on Economics',\n",
       " 'Towards A Rigorous Science of Interpretable Machine Learning',\n",
       " 'The Machine‐Learning Approach',\n",
       " 'Data mining: practical machine learning tools and techniques with Java implementations',\n",
       " 'Programs for Machine Learning',\n",
       " 'Machine Learning for High-Speed Corner Detection',\n",
       " 'Machine learning: Trends, perspectives, and prospects',\n",
       " 'SoilGrids250m: Global gridded soil information based on machine learning',\n",
       " 'The use of the area under the ROC curve in the evaluation of machine learning algorithms',\n",
       " 'Predicting the state of charge and health of batteries using data-driven machine learning',\n",
       " 'Machine learning for molecular and materials science',\n",
       " 'Decision-Based Adversarial Attacks: Reliable Attacks Against Black-Box Machine Learning Models',\n",
       " 'Speeding Up Distributed Machine Learning Using Codes',\n",
       " 'Empirical Asset Pricing Via Machine Learning',\n",
       " 'Privacy Risk in Machine Learning: Analyzing the Connection to Overfitting',\n",
       " 'Wild Patterns: Ten Years After the Rise of Adversarial Machine Learning',\n",
       " 'Supervised Machine Learning: A Review of Classification Techniques',\n",
       " 'Double/Debiased Machine Learning for Treatment and Structural Parameters',\n",
       " 'ilastik: interactive machine learning for (bio)image analysis',\n",
       " 'Definitions, methods, and applications in interpretable machine learning',\n",
       " 'Automated Machine Learning: Methods, Systems, Challenges',\n",
       " 'Machine learning and the physical sciences',\n",
       " 'MXNet: A Flexible and Efficient Machine Learning Library for Heterogeneous Distributed Systems',\n",
       " 'Quantum Machine Learning in Feature Hilbert Spaces.',\n",
       " 'Machine Learning Interpretability: A Survey on Methods and Metrics',\n",
       " 'A high-bias, low-variance introduction to Machine Learning for physicists',\n",
       " 'Recent advances and applications of machine learning in solid-state materials science',\n",
       " 'Machine Learning for Fluid Mechanics',\n",
       " 'Adversarial attacks on medical machine learning',\n",
       " 'Machine Learning Methods That Economists Should Know About',\n",
       " 'Machine Learning in Medicine',\n",
       " 'Applications of machine learning in drug discovery and development',\n",
       " 'Explaining Explanations: An Overview of Interpretability of Machine Learning',\n",
       " 'Tackling Climate Change with Machine Learning',\n",
       " 'Automatic differentiation in machine learning: a survey',\n",
       " 'Machine-learning-guided directed evolution for protein engineering',\n",
       " 'Correlation-based Feature Selection for Machine Learning',\n",
       " 'A Survey of Machine Learning Techniques Applied to Software Defined Networking (SDN): Research Issues and Challenges',\n",
       " 'A Detailed Investigation and Analysis of Using Machine Learning Techniques for Intrusion Detection',\n",
       " 'Big data and machine learning algorithms for health-care delivery.',\n",
       " 'SecureML: A System for Scalable Privacy-Preserving Machine Learning',\n",
       " 'Machine learning in medicine: a practical introduction',\n",
       " 'Introduction to machine learning',\n",
       " 'MLlib: Machine Learning in Apache Spark',\n",
       " 'Machine Learning with Adversaries: Byzantine Tolerant Gradient Descent',\n",
       " 'Federated Machine Learning',\n",
       " 'Ensemble Methods in Machine Learning',\n",
       " 'Manipulating Machine Learning: Poisoning Attacks and Countermeasures for Regression Learning',\n",
       " 'Machine Learning at Facebook: Understanding Inference at the Edge',\n",
       " 'Do no harm: a roadmap for responsible machine learning for health care',\n",
       " 'Machine Learning: An Applied Econometric Approach',\n",
       " 'Practical Secure Aggregation for Privacy-Preserving Machine Learning',\n",
       " 'MoleculeNet: A Benchmark for Molecular Machine Learning',\n",
       " 'Survey on SDN based network intrusion detection system using machine learning approaches']"
      ]
     },
     "execution_count": 37,
     "metadata": {},
     "output_type": "execute_result"
    }
   ],
   "source": [
    "# A Presentation Layer over the Semantic Scholar API\n",
    "\n",
    "# Load Abstracts from Semantic Scholar\n",
    "def load_abstracts(query, max_results=100):\n",
    "    url = 'https://api.semanticscholar.org/graph/v1/paper/search'\n",
    "    params = {'query': query, 'limit': max_results}\n",
    "\n",
    "    r = requests.get(url, params=params)\n",
    "    return r\n",
    "\n",
    "resps = load_abstracts(\"machine learning\", 100)\n",
    "\n",
    "titles = [resp['title'] for resp in resps.json()['data']]\n",
    "\n",
    "titles"
   ]
  },
  {
   "cell_type": "code",
   "execution_count": 45,
   "metadata": {},
   "outputs": [],
   "source": [
    "# make the embeddings\n",
    "nlp = spacy.load(\"en_core_web_sm\")\n",
    "embeddings = np.vstack([nlp(t).vector for t in titles])"
   ]
  },
  {
   "cell_type": "code",
   "execution_count": 50,
   "metadata": {},
   "outputs": [],
   "source": [
    "# clustering\n",
    "cluster = KMeans(4)\n",
    "categories = cluster.fit_predict(embeddings)\n",
    "\n",
    "# build index\n",
    "index = defaultdict(set)\n",
    "for category, item in zip(categories, titles):\n",
    "    index[category].add(item)"
   ]
  },
  {
   "cell_type": "code",
   "execution_count": 122,
   "metadata": {},
   "outputs": [
    {
     "name": "stdout",
     "output_type": "stream",
     "text": [
      "\n",
      "Suggestion: Fashion-MNIST: a Novel Image Dataset for Benchmarking Machine Learning Algorithms\n",
      "{'Double/Debiased Machine Learning for Treatment and Structural Parameters'}\n",
      "\n",
      "Suggestion: Hands-On Machine Learning with Scikit-Learn and TensorFlow: Concepts, Tools, and Techniques to Build Intelligent Systems\n",
      "{'Double/Debiased Machine Learning for Treatment and Structural Parameters', 'Automated Machine Learning: Methods, Systems, Challenges', 'Fashion-MNIST: a Novel Image Dataset for Benchmarking Machine Learning Algorithms'}\n",
      "\n",
      "Suggestion: MoleculeNet: A Benchmark for Molecular Machine Learning\n",
      "{'Double/Debiased Machine Learning for Treatment and Structural Parameters', 'Automated Machine Learning: Methods, Systems, Challenges', 'Hands-On Machine Learning with Scikit-Learn and TensorFlow: Concepts, Tools, and Techniques to Build Intelligent Systems', 'Fashion-MNIST: a Novel Image Dataset for Benchmarking Machine Learning Algorithms', 'Machine Learning with Adversaries: Byzantine Tolerant Gradient Descent'}\n",
      "\n",
      "Suggestion: Data Mining Practical Machine Learning Tools and Techniques\n",
      "{'Double/Debiased Machine Learning for Treatment and Structural Parameters', 'Automated Machine Learning: Methods, Systems, Challenges', 'Hands-On Machine Learning with Scikit-Learn and TensorFlow: Concepts, Tools, and Techniques to Build Intelligent Systems', 'Fashion-MNIST: a Novel Image Dataset for Benchmarking Machine Learning Algorithms', 'MoleculeNet: A Benchmark for Molecular Machine Learning', 'Fairness in Machine Learning', 'Machine Learning with Adversaries: Byzantine Tolerant Gradient Descent'}\n",
      "\n",
      "Suggestion: Genetic Algorithms in Search Optimization and Machine Learning\n",
      "{'Double/Debiased Machine Learning for Treatment and Structural Parameters', 'Automated Machine Learning: Methods, Systems, Challenges', 'Hands-On Machine Learning with Scikit-Learn and TensorFlow: Concepts, Tools, and Techniques to Build Intelligent Systems', 'Fashion-MNIST: a Novel Image Dataset for Benchmarking Machine Learning Algorithms', 'MoleculeNet: A Benchmark for Molecular Machine Learning', 'Genetic Algorithms in Search Optimization and Machine Learning', 'Data Mining Practical Machine Learning Tools and Techniques', 'Fairness in Machine Learning', 'Machine Learning with Adversaries: Byzantine Tolerant Gradient Descent'}\n",
      "\n",
      "Suggestion: Quantum Machine Learning\n",
      "{'Double/Debiased Machine Learning for Treatment and Structural Parameters', 'Automated Machine Learning: Methods, Systems, Challenges', 'Hands-On Machine Learning with Scikit-Learn and TensorFlow: Concepts, Tools, and Techniques to Build Intelligent Systems', 'Fashion-MNIST: a Novel Image Dataset for Benchmarking Machine Learning Algorithms', 'MoleculeNet: A Benchmark for Molecular Machine Learning', 'Genetic Algorithms in Search Optimization and Machine Learning', 'Data Mining Practical Machine Learning Tools and Techniques', 'Fairness in Machine Learning', 'Federated Machine Learning', 'Machine Learning with Adversaries: Byzantine Tolerant Gradient Descent'}\n"
     ]
    }
   ],
   "source": [
    "class Swiper:\n",
    "    def __init__(self, index):\n",
    "        self.index = index\n",
    "\n",
    "        self.current_category = random.choice(list(self.index))\n",
    "        self.current_paper  = None\n",
    "\n",
    "        self.visited = set()\n",
    "        # ones that you've swiped left on\n",
    "        self.bad_categories = set()\n",
    "\n",
    "        self.switch_paper()\n",
    "\n",
    "    def switch_paper(self):\n",
    "        # add current paper to visited\n",
    "        if self.current_paper:\n",
    "                self.visited.add(self.current_paper)\n",
    "        # select new paper from current category\n",
    "        candidate_papers = self.index[self.current_category] - self.visited\n",
    "\n",
    "        if candidate_papers:\n",
    "            self.current_paper = random.choice(list(candidate_papers))\n",
    "            self.visited.add(self.current_paper)\n",
    "            # update current paper\n",
    "            self.current_paper = random.choice(list(candidate_papers))\n",
    "        else:\n",
    "            # switch category\n",
    "            self.switch_category()\n",
    "            # switch paper\n",
    "            self.switch_paper()\n",
    "\n",
    "    def switch_category(self):\n",
    "        # select new category, exclusding bad categories\n",
    "        candidate_categories = {*index} - self.bad_categories\n",
    "\n",
    "        if candidate_categories:\n",
    "            self.current_category = random.choice(list(candidate_categories))\n",
    "        else:\n",
    "            # no more categories to visit\n",
    "            raise StopIteration(\"exhausted all categories\")\n",
    "        \n",
    "    def swipe_left(self):\n",
    "        # add current category to bad categories\n",
    "        self.bad_categories.add(self.current_category)\n",
    "        self.switch_category()\n",
    "        self.switch_paper()\n",
    "    \n",
    "    def swipe_right(self):\n",
    "        self.switch_paper()\n",
    "\n",
    "    def tinder(self):\n",
    "        while True:\n",
    "            print(\"\\nSuggestion:\", self.current_paper)\n",
    "\n",
    "            print(self.visited)\n",
    "            ans = None\n",
    "            while ans not in {\"y\", \"n\", \"exit\"}:\n",
    "                ans = input(\"Is this a good pick? (y/n/exit)\")\n",
    "            if ans == \"y\":\n",
    "                self.swipe_right()\n",
    "            elif ans == \"n\":\n",
    "                self.swipe_left()\n",
    "            else:\n",
    "                break\n",
    "        \n",
    "foo = Swiper(index)\n",
    "foo.tinder()"
   ]
  },
  {
   "cell_type": "code",
   "execution_count": 127,
   "metadata": {},
   "outputs": [
    {
     "data": {
      "text/plain": [
       "{'Automated Machine Learning: Methods, Systems, Challenges',\n",
       " 'Data Mining Practical Machine Learning Tools and Techniques',\n",
       " 'Double/Debiased Machine Learning for Treatment and Structural Parameters',\n",
       " 'Fairness in Machine Learning',\n",
       " 'Fashion-MNIST: a Novel Image Dataset for Benchmarking Machine Learning Algorithms',\n",
       " 'Federated Machine Learning',\n",
       " 'Genetic Algorithms in Search Optimization and Machine Learning',\n",
       " 'Hands-On Machine Learning with Scikit-Learn and TensorFlow: Concepts, Tools, and Techniques to Build Intelligent Systems',\n",
       " 'Machine Learning with Adversaries: Byzantine Tolerant Gradient Descent',\n",
       " 'MoleculeNet: A Benchmark for Molecular Machine Learning'}"
      ]
     },
     "execution_count": 127,
     "metadata": {},
     "output_type": "execute_result"
    }
   ],
   "source": [
    "foo.visited"
   ]
  },
  {
   "cell_type": "code",
   "execution_count": 128,
   "metadata": {},
   "outputs": [],
   "source": [
    "embedding_ = {t: e for e, t in zip(embeddings, titles)}\n",
    "# Embedding locations\n",
    "locs = [embedding_[v] for v in foo.visited]\n",
    "control = [embedding_[v] for v in titles[:len(foo.visited)]]"
   ]
  },
  {
   "cell_type": "code",
   "execution_count": 112,
   "metadata": {},
   "outputs": [],
   "source": [
    "tsne_map = [(t,e) for t,e in zip(X, embeddings)]\n",
    "\n",
    "# find the embedding in tsne map\n",
    "def find_embedding(embedding):\n",
    "    for t,e in tsne_map:\n",
    "        if np.all(e == embedding):\n",
    "            return t\n",
    "    return None\n",
    "\n",
    "\n",
    "coords = [find_embedding(e) for e in locs]"
   ]
  },
  {
   "cell_type": "code",
   "execution_count": 130,
   "metadata": {},
   "outputs": [
    {
     "data": {
      "text/plain": [
       "[<matplotlib.lines.Line2D at 0x7fa5b05bc430>]"
      ]
     },
     "execution_count": 130,
     "metadata": {},
     "output_type": "execute_result"
    },
    {
     "data": {
      "image/png": "[encoded data removed]",
      "text/plain": [
       "<Figure size 432x288 with 1 Axes>"
      ]
     },
     "metadata": {
      "needs_background": "light"
     },
     "output_type": "display_data"
    }
   ],
   "source": [
    "def colors(n_clusters):\n",
    "    cmap = cm.get_cmap('Greys_r')\n",
    "    colors = cmap(np.linspace(0, 1, n_clusters))\n",
    "\n",
    "    return colors\n",
    "\n",
    "X = TSNE(n_components = 2, perplexity = 40, n_iter = 350).fit_transform(embeddings)\n",
    "\n",
    "\n",
    "embedding_ = {t: e for e, t in zip(embeddings, titles)}\n",
    "# Embedding locations\n",
    "locs = [embedding_[v] for v in foo.visited]\n",
    "\n",
    "tsne_map = [(t,e) for t,e in zip(X, embeddings)]\n",
    "\n",
    "\n",
    "# find the embedding in tsne map\n",
    "def find_embedding(embedding):\n",
    "    for t,e in tsne_map:\n",
    "        if np.all(e == embedding):\n",
    "            return t\n",
    "    return None\n",
    "\n",
    "\n",
    "coords = [find_embedding(e) for e in locs]\n",
    "\n",
    "cmap = colors(categories.max() + 1)\n",
    "cols = [cmap[c] for c in categories]\n",
    "\n",
    "plt.scatter(X[:,0], X[:,1], c = cols)\n",
    "\n",
    "# plot coords\n",
    "plt.plot(*zip(*coords))"
   ]
  },
  {
   "cell_type": "code",
   "execution_count": null,
   "metadata": {},
   "outputs": [],
   "source": []
  }
 ],
 "metadata": {
  "interpreter": {
   "hash": "aee8b7b246df8f9039afb4144a1f6fd8d2ca17a180786b69acc140d282b71a49"
  },
  "kernelspec": {
   "display_name": "Python 3.9.4 64-bit",
   "language": "python",
   "name": "python3"
  },
  "language_info": {
   "codemirror_mode": {
    "name": "ipython",
    "version": 3
   },
   "file_extension": ".py",
   "mimetype": "text/x-python",
   "name": "python",
   "nbconvert_exporter": "python",
   "pygments_lexer": "ipython3",
   "version": "3.9.7"
  },
  "orig_nbformat": 4
 },
 "nbformat": 4,
 "nbformat_minor": 2
}
